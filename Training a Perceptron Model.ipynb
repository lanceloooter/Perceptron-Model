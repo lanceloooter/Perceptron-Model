{
 "cells": [
  {
   "cell_type": "markdown",
   "id": "cb916611",
   "metadata": {},
   "source": [
    "\n",
    "#### Lance Dominic C. Raquel "
   ]
  },
  {
   "cell_type": "code",
   "execution_count": 1,
   "id": "a65695f9",
   "metadata": {},
   "outputs": [],
   "source": [
    "import pandas as pd\n",
    "import numpy as np\n",
    "import matplotlib.pyplot as plt\n",
    "import sklearn.cluster as cluster\n",
    "from sklearn import datasets"
   ]
  },
  {
   "cell_type": "markdown",
   "id": "1307ee1c",
   "metadata": {},
   "source": [
    "#### Part I – Importing the Dataset"
   ]
  },
  {
   "cell_type": "code",
   "execution_count": 2,
   "id": "46692e81",
   "metadata": {},
   "outputs": [],
   "source": [
    "df = pd.read_csv('https://archive.ics.uci.edu/ml/machine-learning-databases/iris/iris.data', header=None)"
   ]
  },
  {
   "cell_type": "markdown",
   "id": "ca053567",
   "metadata": {},
   "source": [
    "#### Display the last 5 rows of the data"
   ]
  },
  {
   "cell_type": "code",
   "execution_count": 3,
   "id": "56f85200",
   "metadata": {},
   "outputs": [
    {
     "name": "stdout",
     "output_type": "stream",
     "text": [
      "       0    1    2    3               4\n",
      "145  6.7  3.0  5.2  2.3  Iris-virginica\n",
      "146  6.3  2.5  5.0  1.9  Iris-virginica\n",
      "147  6.5  3.0  5.2  2.0  Iris-virginica\n",
      "148  6.2  3.4  5.4  2.3  Iris-virginica\n",
      "149  5.9  3.0  5.1  1.8  Iris-virginica\n"
     ]
    }
   ],
   "source": [
    "print(df.tail())"
   ]
  },
  {
   "cell_type": "markdown",
   "id": "e7b0c33b",
   "metadata": {},
   "source": [
    "#### Part II - select setosa and versicolor"
   ]
  },
  {
   "cell_type": "code",
   "execution_count": 4,
   "id": "0c50d812",
   "metadata": {},
   "outputs": [
    {
     "name": "stdout",
     "output_type": "stream",
     "text": [
      "       0    1    2    3                4\n",
      "0    5.1  3.5  1.4  0.2      Iris-setosa\n",
      "1    4.9  3.0  1.4  0.2      Iris-setosa\n",
      "2    4.7  3.2  1.3  0.2      Iris-setosa\n",
      "3    4.6  3.1  1.5  0.2      Iris-setosa\n",
      "4    5.0  3.6  1.4  0.2      Iris-setosa\n",
      "5    5.4  3.9  1.7  0.4      Iris-setosa\n",
      "6    4.6  3.4  1.4  0.3      Iris-setosa\n",
      "7    5.0  3.4  1.5  0.2      Iris-setosa\n",
      "8    4.4  2.9  1.4  0.2      Iris-setosa\n",
      "9    4.9  3.1  1.5  0.1      Iris-setosa\n",
      "10   5.4  3.7  1.5  0.2      Iris-setosa\n",
      "11   4.8  3.4  1.6  0.2      Iris-setosa\n",
      "12   4.8  3.0  1.4  0.1      Iris-setosa\n",
      "13   4.3  3.0  1.1  0.1      Iris-setosa\n",
      "14   5.8  4.0  1.2  0.2      Iris-setosa\n",
      "15   5.7  4.4  1.5  0.4      Iris-setosa\n",
      "16   5.4  3.9  1.3  0.4      Iris-setosa\n",
      "17   5.1  3.5  1.4  0.3      Iris-setosa\n",
      "18   5.7  3.8  1.7  0.3      Iris-setosa\n",
      "19   5.1  3.8  1.5  0.3      Iris-setosa\n",
      "20   5.4  3.4  1.7  0.2      Iris-setosa\n",
      "21   5.1  3.7  1.5  0.4      Iris-setosa\n",
      "22   4.6  3.6  1.0  0.2      Iris-setosa\n",
      "23   5.1  3.3  1.7  0.5      Iris-setosa\n",
      "24   4.8  3.4  1.9  0.2      Iris-setosa\n",
      "25   5.0  3.0  1.6  0.2      Iris-setosa\n",
      "26   5.0  3.4  1.6  0.4      Iris-setosa\n",
      "27   5.2  3.5  1.5  0.2      Iris-setosa\n",
      "28   5.2  3.4  1.4  0.2      Iris-setosa\n",
      "29   4.7  3.2  1.6  0.2      Iris-setosa\n",
      "30   4.8  3.1  1.6  0.2      Iris-setosa\n",
      "31   5.4  3.4  1.5  0.4      Iris-setosa\n",
      "32   5.2  4.1  1.5  0.1      Iris-setosa\n",
      "33   5.5  4.2  1.4  0.2      Iris-setosa\n",
      "34   4.9  3.1  1.5  0.1      Iris-setosa\n",
      "35   5.0  3.2  1.2  0.2      Iris-setosa\n",
      "36   5.5  3.5  1.3  0.2      Iris-setosa\n",
      "37   4.9  3.1  1.5  0.1      Iris-setosa\n",
      "38   4.4  3.0  1.3  0.2      Iris-setosa\n",
      "39   5.1  3.4  1.5  0.2      Iris-setosa\n",
      "40   5.0  3.5  1.3  0.3      Iris-setosa\n",
      "41   4.5  2.3  1.3  0.3      Iris-setosa\n",
      "42   4.4  3.2  1.3  0.2      Iris-setosa\n",
      "43   5.0  3.5  1.6  0.6      Iris-setosa\n",
      "44   5.1  3.8  1.9  0.4      Iris-setosa\n",
      "45   4.8  3.0  1.4  0.3      Iris-setosa\n",
      "46   5.1  3.8  1.6  0.2      Iris-setosa\n",
      "47   4.6  3.2  1.4  0.2      Iris-setosa\n",
      "48   5.3  3.7  1.5  0.2      Iris-setosa\n",
      "49   5.0  3.3  1.4  0.2      Iris-setosa\n",
      "50   7.0  3.2  4.7  1.4  Iris-versicolor\n",
      "51   6.4  3.2  4.5  1.5  Iris-versicolor\n",
      "52   6.9  3.1  4.9  1.5  Iris-versicolor\n",
      "53   5.5  2.3  4.0  1.3  Iris-versicolor\n",
      "54   6.5  2.8  4.6  1.5  Iris-versicolor\n",
      "55   5.7  2.8  4.5  1.3  Iris-versicolor\n",
      "56   6.3  3.3  4.7  1.6  Iris-versicolor\n",
      "57   4.9  2.4  3.3  1.0  Iris-versicolor\n",
      "58   6.6  2.9  4.6  1.3  Iris-versicolor\n",
      "59   5.2  2.7  3.9  1.4  Iris-versicolor\n",
      "60   5.0  2.0  3.5  1.0  Iris-versicolor\n",
      "61   5.9  3.0  4.2  1.5  Iris-versicolor\n",
      "62   6.0  2.2  4.0  1.0  Iris-versicolor\n",
      "63   6.1  2.9  4.7  1.4  Iris-versicolor\n",
      "64   5.6  2.9  3.6  1.3  Iris-versicolor\n",
      "65   6.7  3.1  4.4  1.4  Iris-versicolor\n",
      "66   5.6  3.0  4.5  1.5  Iris-versicolor\n",
      "67   5.8  2.7  4.1  1.0  Iris-versicolor\n",
      "68   6.2  2.2  4.5  1.5  Iris-versicolor\n",
      "69   5.6  2.5  3.9  1.1  Iris-versicolor\n",
      "70   5.9  3.2  4.8  1.8  Iris-versicolor\n",
      "71   6.1  2.8  4.0  1.3  Iris-versicolor\n",
      "72   6.3  2.5  4.9  1.5  Iris-versicolor\n",
      "73   6.1  2.8  4.7  1.2  Iris-versicolor\n",
      "74   6.4  2.9  4.3  1.3  Iris-versicolor\n",
      "75   6.6  3.0  4.4  1.4  Iris-versicolor\n",
      "76   6.8  2.8  4.8  1.4  Iris-versicolor\n",
      "77   6.7  3.0  5.0  1.7  Iris-versicolor\n",
      "78   6.0  2.9  4.5  1.5  Iris-versicolor\n",
      "79   5.7  2.6  3.5  1.0  Iris-versicolor\n",
      "80   5.5  2.4  3.8  1.1  Iris-versicolor\n",
      "81   5.5  2.4  3.7  1.0  Iris-versicolor\n",
      "82   5.8  2.7  3.9  1.2  Iris-versicolor\n",
      "83   6.0  2.7  5.1  1.6  Iris-versicolor\n",
      "84   5.4  3.0  4.5  1.5  Iris-versicolor\n",
      "85   6.0  3.4  4.5  1.6  Iris-versicolor\n",
      "86   6.7  3.1  4.7  1.5  Iris-versicolor\n",
      "87   6.3  2.3  4.4  1.3  Iris-versicolor\n",
      "88   5.6  3.0  4.1  1.3  Iris-versicolor\n",
      "89   5.5  2.5  4.0  1.3  Iris-versicolor\n",
      "90   5.5  2.6  4.4  1.2  Iris-versicolor\n",
      "91   6.1  3.0  4.6  1.4  Iris-versicolor\n",
      "92   5.8  2.6  4.0  1.2  Iris-versicolor\n",
      "93   5.0  2.3  3.3  1.0  Iris-versicolor\n",
      "94   5.6  2.7  4.2  1.3  Iris-versicolor\n",
      "95   5.7  3.0  4.2  1.2  Iris-versicolor\n",
      "96   5.7  2.9  4.2  1.3  Iris-versicolor\n",
      "97   6.2  2.9  4.3  1.3  Iris-versicolor\n",
      "98   5.1  2.5  3.0  1.1  Iris-versicolor\n",
      "99   5.7  2.8  4.1  1.3  Iris-versicolor\n",
      "100  6.3  3.3  6.0  2.5   Iris-virginica\n",
      "101  5.8  2.7  5.1  1.9   Iris-virginica\n",
      "102  7.1  3.0  5.9  2.1   Iris-virginica\n",
      "103  6.3  2.9  5.6  1.8   Iris-virginica\n",
      "104  6.5  3.0  5.8  2.2   Iris-virginica\n",
      "105  7.6  3.0  6.6  2.1   Iris-virginica\n",
      "106  4.9  2.5  4.5  1.7   Iris-virginica\n",
      "107  7.3  2.9  6.3  1.8   Iris-virginica\n",
      "108  6.7  2.5  5.8  1.8   Iris-virginica\n",
      "109  7.2  3.6  6.1  2.5   Iris-virginica\n",
      "110  6.5  3.2  5.1  2.0   Iris-virginica\n",
      "111  6.4  2.7  5.3  1.9   Iris-virginica\n",
      "112  6.8  3.0  5.5  2.1   Iris-virginica\n",
      "113  5.7  2.5  5.0  2.0   Iris-virginica\n",
      "114  5.8  2.8  5.1  2.4   Iris-virginica\n",
      "115  6.4  3.2  5.3  2.3   Iris-virginica\n",
      "116  6.5  3.0  5.5  1.8   Iris-virginica\n",
      "117  7.7  3.8  6.7  2.2   Iris-virginica\n",
      "118  7.7  2.6  6.9  2.3   Iris-virginica\n",
      "119  6.0  2.2  5.0  1.5   Iris-virginica\n",
      "120  6.9  3.2  5.7  2.3   Iris-virginica\n",
      "121  5.6  2.8  4.9  2.0   Iris-virginica\n",
      "122  7.7  2.8  6.7  2.0   Iris-virginica\n",
      "123  6.3  2.7  4.9  1.8   Iris-virginica\n",
      "124  6.7  3.3  5.7  2.1   Iris-virginica\n",
      "125  7.2  3.2  6.0  1.8   Iris-virginica\n",
      "126  6.2  2.8  4.8  1.8   Iris-virginica\n",
      "127  6.1  3.0  4.9  1.8   Iris-virginica\n",
      "128  6.4  2.8  5.6  2.1   Iris-virginica\n",
      "129  7.2  3.0  5.8  1.6   Iris-virginica\n",
      "130  7.4  2.8  6.1  1.9   Iris-virginica\n",
      "131  7.9  3.8  6.4  2.0   Iris-virginica\n",
      "132  6.4  2.8  5.6  2.2   Iris-virginica\n",
      "133  6.3  2.8  5.1  1.5   Iris-virginica\n",
      "134  6.1  2.6  5.6  1.4   Iris-virginica\n",
      "135  7.7  3.0  6.1  2.3   Iris-virginica\n",
      "136  6.3  3.4  5.6  2.4   Iris-virginica\n",
      "137  6.4  3.1  5.5  1.8   Iris-virginica\n",
      "138  6.0  3.0  4.8  1.8   Iris-virginica\n",
      "139  6.9  3.1  5.4  2.1   Iris-virginica\n",
      "140  6.7  3.1  5.6  2.4   Iris-virginica\n",
      "141  6.9  3.1  5.1  2.3   Iris-virginica\n",
      "142  5.8  2.7  5.1  1.9   Iris-virginica\n",
      "143  6.8  3.2  5.9  2.3   Iris-virginica\n",
      "144  6.7  3.3  5.7  2.5   Iris-virginica\n",
      "145  6.7  3.0  5.2  2.3   Iris-virginica\n",
      "146  6.3  2.5  5.0  1.9   Iris-virginica\n",
      "147  6.5  3.0  5.2  2.0   Iris-virginica\n",
      "148  6.2  3.4  5.4  2.3   Iris-virginica\n",
      "149  5.9  3.0  5.1  1.8   Iris-virginica\n"
     ]
    }
   ],
   "source": [
    "pd.set_option(\"display.max_rows\", None, \"display.max_columns\", None)\n",
    "print(df)"
   ]
  },
  {
   "cell_type": "code",
   "execution_count": 5,
   "id": "a777ea51",
   "metadata": {},
   "outputs": [],
   "source": [
    "setosa_versicolor_df = df[df[4].isin(['Iris-setosa', 'Iris-versicolor'])]"
   ]
  },
  {
   "cell_type": "markdown",
   "id": "8e4088a9",
   "metadata": {},
   "source": [
    "#### Plot petal length vs. sepal length features and classify the data as setosa or versicolor. Use a blue x mark for versicolor and red solid circle for setosa."
   ]
  },
  {
   "cell_type": "code",
   "execution_count": 6,
   "id": "05596dd5",
   "metadata": {},
   "outputs": [
    {
     "data": {
      "image/png": "[encoded data removed]",
      "text/plain": [
       "<Figure size 640x480 with 1 Axes>"
      ]
     },
     "metadata": {},
     "output_type": "display_data"
    }
   ],
   "source": [
    "plt.scatter(setosa_versicolor_df.iloc[:50, 0], setosa_versicolor_df.iloc[:50, 2], color='red', marker='o', label='setosa')\n",
    "plt.scatter(setosa_versicolor_df.iloc[50:100, 0], setosa_versicolor_df.iloc[50:100, 2], color='blue', marker='x', label='versicolor')\n",
    "plt.xlabel('sepal length')\n",
    "plt.ylabel('petal length')\n",
    "plt.legend()\n",
    "plt.show()"
   ]
  },
  {
   "cell_type": "markdown",
   "id": "7f9f5fe8",
   "metadata": {},
   "source": [
    "#### Part III – Plot the Decision Boundary "
   ]
  },
  {
   "cell_type": "markdown",
   "id": "5e9a0a5a",
   "metadata": {},
   "source": [
    "#### Train your perceptron using the data to determine the boundary line between the two classes setosa and versicolor."
   ]
  },
  {
   "cell_type": "code",
   "execution_count": 7,
   "id": "538f2b4b",
   "metadata": {},
   "outputs": [
    {
     "data": {
      "text/plain": [
       "<__main__.Perceptron at 0x1e9546fa310>"
      ]
     },
     "execution_count": 7,
     "metadata": {},
     "output_type": "execute_result"
    }
   ],
   "source": [
    "X = setosa_versicolor_df.iloc[:, [0, 2]].values\n",
    "y = np.where(setosa_versicolor_df.iloc[:, 4] == 'Iris-setosa', -1, 1)\n",
    "\n",
    "class Perceptron:\n",
    "    def __init__(self, eta, n_iter):\n",
    "        self.eta = eta\n",
    "        self.n_iter = n_iter\n",
    "    \n",
    "    def fit(self, X, y):\n",
    "        self.w_ = np.zeros(1 + X.shape[1])\n",
    "        self.errors_ = []\n",
    "        \n",
    "        for _ in range(self.n_iter):\n",
    "            errors = 0\n",
    "            for xi, target in zip(X, y):\n",
    "                update = self.eta * (target - self.predict(xi))\n",
    "                self.w_[1:] += update * xi\n",
    "                self.w_[0] += update\n",
    "                errors += int(update != 0.0)\n",
    "            self.errors_.append(errors)\n",
    "        return self\n",
    "    \n",
    "    def net_input(self, X):\n",
    "        return np.dot(X, self.w_[1:]) + self.w_[0]\n",
    "    \n",
    "    def predict(self, X):\n",
    "        return np.where(self.net_input(X) >= 0.0, 1, -1)\n",
    "\n",
    "\n",
    "perceptron = Perceptron(eta=0.1, n_iter=10)\n",
    "perceptron.fit(X, y)"
   ]
  },
  {
   "cell_type": "markdown",
   "id": "ae87728c",
   "metadata": {},
   "source": [
    "#### Include the boundary line in the plot in part 2."
   ]
  },
  {
   "cell_type": "code",
   "execution_count": 8,
   "id": "074817dd",
   "metadata": {},
   "outputs": [
    {
     "data": {
      "image/png": "[encoded data removed]",
      "text/plain": [
       "<Figure size 640x480 with 1 Axes>"
      ]
     },
     "metadata": {},
     "output_type": "display_data"
    }
   ],
   "source": [
    "plt.scatter(X[:50, 0], X[:50, 1], color='red', marker='o', label='setosa')\n",
    "plt.scatter(X[50:100, 0], X[50:100, 1], color='blue', marker='x', label='versicolor')\n",
    "plt.xlabel('sepal length')\n",
    "plt.ylabel('petal length')\n",
    "plt.legend()\n",
    "\n",
    "x_min, x_max = X[:, 0].min() - 1, X[:, 0].max() + 1\n",
    "y_min, y_max = X[:, 1].min() - 1, X[:, 1].max() + 1\n",
    "\n",
    "xx, yy = np.meshgrid(np.arange(x_min, x_max, 0.01), np.arange(y_min, y_max, 0.01))\n",
    "Z = perceptron.predict(np.array([xx.ravel(), yy.ravel()]).T)\n",
    "Z = Z.reshape(xx.shape)\n",
    "\n",
    "plt.contourf(xx, yy, Z, alpha=0.1)\n",
    "plt.title('Perceptron Decision Boundary')\n",
    "plt.show()"
   ]
  }
 ],
 "metadata": {
  "kernelspec": {
   "display_name": "Python 3 (ipykernel)",
   "language": "python",
   "name": "python3"
  },
  "language_info": {
   "codemirror_mode": {
    "name": "ipython",
    "version": 3
   },
   "file_extension": ".py",
   "mimetype": "text/x-python",
   "name": "python",
   "nbconvert_exporter": "python",
   "pygments_lexer": "ipython3",
   "version": "3.11.7"
  }
 },
 "nbformat": 4,
 "nbformat_minor": 5
}
